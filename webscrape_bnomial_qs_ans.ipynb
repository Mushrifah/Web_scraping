{
 "cells": [
  {
   "cell_type": "code",
   "execution_count": 1,
   "id": "0b4c523e",
   "metadata": {},
   "outputs": [],
   "source": [
    "import pandas as pd\n",
    "from selenium import webdriver\n",
    "from webdriver_manager.chrome import ChromeDriverManager\n",
    "from selenium.webdriver.chrome.service import Service\n",
    "from selenium.webdriver.chrome.options import Options\n",
    "from selenium.webdriver.common.by import By\n",
    "\n",
    "from selenium.webdriver.support.ui import WebDriverWait\n",
    "from selenium.webdriver.support import expected_conditions as EC\n",
    "\n",
    "import requests\n",
    "from bs4 import BeautifulSoup"
   ]
  },
  {
   "cell_type": "code",
   "execution_count": 2,
   "id": "308d408a",
   "metadata": {},
   "outputs": [],
   "source": [
    "## Setup chrome options\n",
    "chrome_options = Options()\n",
    "chrome_options.add_argument(\"--headless\") # Ensure GUI is off\n",
    "chrome_options.add_argument(\"--no-sandbox\")\n",
    "\n",
    "# chrome_options.add_experimental_option(\"excludeSwitches\", [\"enable-automation\",\n",
    "#                                                            'disable-component-update',\n",
    "#                                                            'ignore-certificate-errors'])\n",
    "# chrome_options.add_experimental_option('useAutomationExtension', False)"
   ]
  },
  {
   "cell_type": "code",
   "execution_count": 3,
   "id": "6c11f190",
   "metadata": {},
   "outputs": [],
   "source": [
    "# Create service\n",
    "webdriver_service = Service(ChromeDriverManager().install())"
   ]
  },
  {
   "cell_type": "code",
   "execution_count": 4,
   "id": "4e474eec",
   "metadata": {},
   "outputs": [],
   "source": [
    "driver=webdriver.Chrome(service=webdriver_service,options = chrome_options)"
   ]
  },
  {
   "cell_type": "code",
   "execution_count": 5,
   "id": "753e97ba",
   "metadata": {},
   "outputs": [],
   "source": [
    "page_url = \"https://today.bnomial.com/\""
   ]
  },
  {
   "cell_type": "code",
   "execution_count": 6,
   "id": "09051dc6",
   "metadata": {},
   "outputs": [],
   "source": [
    "driver.get(page_url)"
   ]
  },
  {
   "cell_type": "code",
   "execution_count": 7,
   "id": "0b1418d7",
   "metadata": {},
   "outputs": [],
   "source": [
    "soup = BeautifulSoup(driver.page_source, 'lxml')"
   ]
  },
  {
   "cell_type": "code",
   "execution_count": 8,
   "id": "888dc055",
   "metadata": {},
   "outputs": [
    {
     "data": {
      "text/plain": [
       "<html><head><meta charset=\"utf-8\"/><meta content=\"width=device-width, initial-scale=1.0\" name=\"viewport\"/><meta content=\"Bnomial Inc.\" name=\"author\"/><meta content=\"One machine learning question every day - bnomial\" name=\"title\"/><meta content=\"Daily multi-choice machine learning, data science, and artificial intelligence questions.\" name=\"description\"/><meta content=\"One machine learning question every day - bnomial\" property=\"og:title\"/><meta content=\"Daily multi-choice machine learning, data science, and artificial intelligence questions.\" property=\"og:description\"/><meta content=\"https://today.bnomial.com/card_white.jpg\" property=\"og:image\"/><meta content=\"https://today.bnomial.com/?\" property=\"og:url\"/><meta content=\"One machine learning question every day - bnomial\" name=\"twitter:image:alt\"/><meta content=\"https://today.bnomial.com/card_white.jpg\" name=\"twitter:image\"/><title>One machine learning question every day - bnomial</title><meta content=\"12\" name=\"next-head-count\"/><meta charset=\"utf-8\"/><meta content=\"bnomial\" property=\"og:site_name\"/><meta content=\"@0xbnomial\" name=\"twitter:site\"/><meta content=\"@0xbnomial\" name=\"twitter:creator\"/><meta content=\"summary_large_image\" name=\"twitter:card\"/><link href=\"/icon.svg\" rel=\"icon\" type=\"image/svg\"/><link href=\"/apple-touch-icon.png\" rel=\"apple-touch-icon\" sizes=\"180x180\"/><link href=\"/favicon-32x32.png\" rel=\"icon\" sizes=\"32x32\" type=\"image/png\"/><link href=\"/favicon-16x16.png\" rel=\"icon\" sizes=\"16x16\" type=\"image/png\"/><link href=\"/manifest.json\" rel=\"manifest\"/><meta content=\"#000000\" name=\"theme-color\"/><meta content=\"GxUYda_a7Bl25p4Pwtq4YTMlAQfcVb1BzXRJf0L77vE\" name=\"google-site-verification\"/><script src=\"https://partner.googleadservices.com/gampad/cookie.js?domain=today.bnomial.com&amp;callback=_gfp_s_&amp;client=ca-pub-8393616364679298\"></script><script id=\"google_shimpl\" src=\"https://pagead2.googlesyndication.com/pagead/managed/js/adsense/m202305230101/show_ads_impl.js?bust=31074869\"></script><script async=\"\" crossorigin=\"anonymous\" data-checked-head=\"true\" src=\"https://pagead2.googlesyndication.com/pagead/js/adsbygoogle.js?client=ca-pub-8393616364679298\"></script><meta name=\"next-font-preconnect\"/><link as=\"style\" href=\"/_next/static/css/1182de505aeef7f5.css\" rel=\"preload\"/><link data-n-g=\"\" href=\"/_next/static/css/1182de505aeef7f5.css\" rel=\"stylesheet\"/><noscript data-n-css=\"\"></noscript><script defer=\"\" nomodule=\"\" src=\"/_next/static/chunks/polyfills-5cd94c89d3acac5f.js\"></script><script defer=\"\" src=\"/_next/static/chunks/webpack-7efd0b3076fd5f88.js\"></script><script defer=\"\" src=\"/_next/static/chunks/framework-5f4595e5518b5600.js\"></script><script defer=\"\" src=\"/_next/static/chunks/main-06ec44127a586d9c.js\"></script><script defer=\"\" src=\"/_next/static/chunks/pages/_app-803386289ef96e44.js\"></script><script defer=\"\" src=\"/_next/static/chunks/0f1ac474-12a5ba4cf1469319.js\"></script><script defer=\"\" src=\"/_next/static/chunks/0eceb729-7fe62f6d4472acbc.js\"></script><script defer=\"\" src=\"/_next/static/chunks/985-fd1f502a77bdd976.js\"></script><script defer=\"\" src=\"/_next/static/chunks/517-02f3e71e31c5507e.js\"></script><script defer=\"\" src=\"/_next/static/chunks/942-f7e1f596d35c4935.js\"></script><script defer=\"\" src=\"/_next/static/chunks/270-2873d3f2e03adbbf.js\"></script><script defer=\"\" src=\"/_next/static/chunks/pages/index-51ed5e15a1ee7509.js\"></script><script defer=\"\" src=\"/_next/static/LLLY-u0bpQq8_pA_BPK3O/_buildManifest.js\"></script><script defer=\"\" src=\"/_next/static/LLLY-u0bpQq8_pA_BPK3O/_ssgManifest.js\"></script><script defer=\"\" src=\"/_next/static/LLLY-u0bpQq8_pA_BPK3O/_middlewareManifest.js\"></script><style data-emotion=\"css 1ru35do\" data-s=\"\">.css-1ru35do{padding-left:0.75rem;padding-right:0.75rem;padding-top:2rem;padding-bottom:2rem;max-width:1024px;margin-left:auto;margin-right:auto;display:-webkit-box;display:-webkit-flex;display:-ms-flexbox;display:flex;-webkit-flex-direction:column;-ms-flex-direction:column;flex-direction:column;height:100vh;-webkit-box-pack:start;-ms-flex-pack:start;-webkit-justify-content:flex-start;justify-content:flex-start;}@media (min-width: 768px){.css-1ru35do{padding-left:2rem;padding-right:2rem;}}</style><style data-emotion=\"css 1kg0r1d\" data-s=\"\">.css-1kg0r1d{margin-bottom:3rem;text-align:center;}@media (min-width: 640px){.css-1kg0r1d{text-align:left;}}.css-1kg0r1d a{margin-left:auto;margin-right:auto;display:block;text-align:center;}</style><style data-emotion=\"css 1g93b4s\" data-s=\"\">.css-1g93b4s{position:relative;}.css-1g93b4s h1{position:relative;margin-top:1rem;font-size:1.9rem;--tw-text-opacity:1;color:rgba(255, 255, 255, var(--tw-text-opacity));text-align:center;line-height:2.25rem;z-index:20;}@media (min-width: 768px){.css-1g93b4s h1{font-size:2.5rem;}}.css-1g93b4s div{height:2.5rem;width:91.666667%;--tw-bg-opacity:1;background-color:rgba(40, 40, 40, var(--tw-bg-opacity));margin-left:auto;margin-right:auto;position:absolute;top:1rem;left:0px;right:0px;z-index:10;-webkit-transform:rotate(-4deg) translatey(0px);-moz-transform:rotate(-4deg) translatey(0px);-ms-transform:rotate(-4deg) translatey(0px);transform:rotate(-4deg) translatey(0px);}@media (min-width: 768px){.css-1g93b4s div{width:75%;top:0px;}}@media (min-width: 768px){.css-1g93b4s div{-webkit-transform:rotate(-2deg) translatey(10px);-moz-transform:rotate(-2deg) translatey(10px);-ms-transform:rotate(-2deg) translatey(10px);transform:rotate(-2deg) translatey(10px);}}</style><style data-emotion=\"css 1m1v4ua\" data-s=\"\">.css-1m1v4ua{margin-top:1.5rem;display:-webkit-box;display:-webkit-flex;display:-ms-flexbox;display:flex;-webkit-box-flex-wrap:wrap;-webkit-flex-wrap:wrap;-ms-flex-wrap:wrap;flex-wrap:wrap;-webkit-box-pack:center;-ms-flex-pack:center;-webkit-justify-content:center;justify-content:center;font-size:0.875rem;line-height:1.25rem;}.css-1m1v4ua a,.css-1m1v4ua button{margin-left:1rem;margin-right:1rem;margin-top:0.25rem;margin-bottom:0.25rem;}</style><style data-emotion=\"css 1f788d8\" data-s=\"\">.css-1f788d8{--tw-text-opacity:1;color:rgba(77, 184, 229, var(--tw-text-opacity));cursor:pointer;}.css-1f788d8:hover{--tw-text-opacity:1;color:rgba(255, 255, 255, var(--tw-text-opacity));}</style><style data-emotion=\"css ujmjij\" data-s=\"\">.css-ujmjij{margin-bottom:auto;}</style><style data-emotion=\"css am5558\" data-s=\"\">.css-am5558{text-align:center;--tw-text-opacity:1;color:rgba(118, 118, 118, var(--tw-text-opacity));font-size:0.875rem;line-height:1.25rem;margin-top:2rem;padding-top:1.5rem;padding-bottom:1.5rem;border-top-width:2px;--tw-border-opacity:1;border-color:rgba(31, 41, 55, var(--tw-border-opacity));margin-left:auto;margin-right:auto;max-width:72rem;}.css-am5558 p{padding-top:0.25rem;padding-bottom:0.25rem;}</style><style data-emotion=\"css\" data-s=\"\"></style><link as=\"script\" href=\"/_next/static/chunks/pages/competition-d59e0ac9c2a3d9b6.js\" rel=\"prefetch\"/><link as=\"script\" href=\"/_next/static/chunks/pages/sponsorship-5878138c25f79feb.js\" rel=\"prefetch\"/><meta content=\"A7CQXglZzTrThjGTBEn1rWTxHOEtkWivwzgea+NjyardrwlieSjVuyG44PkYgIPGs8Q9svD8sF3Yedn0BBBjXAkAAACFeyJvcmlnaW4iOiJodHRwczovL2RvdWJsZWNsaWNrLm5ldDo0NDMiLCJmZWF0dXJlIjoiUHJpdmFjeVNhbmRib3hBZHNBUElzIiwiZXhwaXJ5IjoxNjk1MTY3OTk5LCJpc1N1YmRvbWFpbiI6dHJ1ZSwiaXNUaGlyZFBhcnR5Ijp0cnVlfQ==\" http-equiv=\"origin-trial\"/><meta content=\"A3vKT9yxRPjmXN3DpIiz58f5JykcWHjUo/W7hvmtjgh9jPpQgem9VbADiNovG8NkO6mRmk70Kex8/KUqAYWVWAEAAACLeyJvcmlnaW4iOiJodHRwczovL2dvb2dsZXN5bmRpY2F0aW9uLmNvbTo0NDMiLCJmZWF0dXJlIjoiUHJpdmFjeVNhbmRib3hBZHNBUElzIiwiZXhwaXJ5IjoxNjk1MTY3OTk5LCJpc1N1YmRvbWFpbiI6dHJ1ZSwiaXNUaGlyZFBhcnR5Ijp0cnVlfQ==\" http-equiv=\"origin-trial\"/><meta content=\"A4A26Ymj79UVY7C7JGUS4BG1s7MdcDokAQf/RP0paks+RoTYbXHxceT/5L4iKcsleFCngi75YfNRGW2+SpVv1ggAAACLeyJvcmlnaW4iOiJodHRwczovL2dvb2dsZXRhZ3NlcnZpY2VzLmNvbTo0NDMiLCJmZWF0dXJlIjoiUHJpdmFjeVNhbmRib3hBZHNBUElzIiwiZXhwaXJ5IjoxNjk1MTY3OTk5LCJpc1N1YmRvbWFpbiI6dHJ1ZSwiaXNUaGlyZFBhcnR5Ijp0cnVlfQ==\" http-equiv=\"origin-trial\"/><meta content=\"As0hBNJ8h++fNYlkq8cTye2qDLyom8NddByiVytXGGD0YVE+2CEuTCpqXMDxdhOMILKoaiaYifwEvCRlJ/9GcQ8AAAB8eyJvcmlnaW4iOiJodHRwczovL2RvdWJsZWNsaWNrLm5ldDo0NDMiLCJmZWF0dXJlIjoiV2ViVmlld1hSZXF1ZXN0ZWRXaXRoRGVwcmVjYXRpb24iLCJleHBpcnkiOjE3MTk1MzI3OTksImlzU3ViZG9tYWluIjp0cnVlfQ==\" http-equiv=\"origin-trial\"/><meta content=\"AgRYsXo24ypxC89CJanC+JgEmraCCBebKl8ZmG7Tj5oJNx0cmH0NtNRZs3NB5ubhpbX/bIt7l2zJOSyO64NGmwMAAACCeyJvcmlnaW4iOiJodHRwczovL2dvb2dsZXN5bmRpY2F0aW9uLmNvbTo0NDMiLCJmZWF0dXJlIjoiV2ViVmlld1hSZXF1ZXN0ZWRXaXRoRGVwcmVjYXRpb24iLCJleHBpcnkiOjE3MTk1MzI3OTksImlzU3ViZG9tYWluIjp0cnVlfQ==\" http-equiv=\"origin-trial\"/><link as=\"script\" href=\"https://adservice.google.co.in/adsid/integrator.js?domain=today.bnomial.com\" rel=\"preload\"/><script src=\"https://adservice.google.co.in/adsid/integrator.js?domain=today.bnomial.com\" type=\"text/javascript\"></script><link as=\"script\" href=\"https://adservice.google.com/adsid/integrator.js?domain=today.bnomial.com\" rel=\"preload\"/><script src=\"https://adservice.google.com/adsid/integrator.js?domain=today.bnomial.com\" type=\"text/javascript\"></script></head><body><div data-reactroot=\"\" id=\"__next\" style=\"height: auto !important;\"><div class=\"css-1ru35do e1w3z7oe1\" style=\"height: auto !important;\"><div class=\"css-1kg0r1d e1a43dlp2\"><a href=\"/\"><span style=\"box-sizing:border-box;display:inline-block;overflow:hidden;width:initial;height:initial;background:none;opacity:1;border:0;margin:0;padding:0;position:relative;max-width:100%\"><span style=\"box-sizing:border-box;display:block;width:initial;height:initial;background:none;opacity:1;border:0;margin:0;padding:0;max-width:100%\"><img alt=\"\" aria-hidden=\"true\" src=\"data:image/svg+xml,%3csvg%20xmlns=%27http://www.w3.org/2000/svg%27%20version=%271.1%27%20width=%27200%27%20height=%2738%27/%3e\" style=\"display:block;max-width:100%;width:initial;height:initial;background:none;opacity:1;border:0;margin:0;padding:0\"/></span><img alt=\"Bnomial logo\" data-nimg=\"intrinsic\" decoding=\"async\" src=\"/bnomial.svg\" srcset=\"/bnomial.svg 1x, /bnomial.svg 2x\" style=\"position:absolute;top:0;left:0;bottom:0;right:0;box-sizing:border-box;padding:0;border:none;margin:auto;display:block;width:0;height:0;min-width:100%;max-width:100%;min-height:100%;max-height:100%\"/><noscript><img alt=\"Bnomial logo\" data-nimg=\"intrinsic\" decoding=\"async\" loading=\"lazy\" src=\"/bnomial.svg\" srcset=\"/bnomial.svg 1x, /bnomial.svg 2x\" style=\"position:absolute;top:0;left:0;bottom:0;right:0;box-sizing:border-box;padding:0;border:none;margin:auto;display:block;width:0;height:0;min-width:100%;max-width:100%;min-height:100%;max-height:100%\"/></noscript></span></a><div class=\"css-1g93b4s e1a43dlp1\"><h1>MACHINE LEARNING QUESTIONS</h1><div></div></div><div class=\"css-1m1v4ua e1a43dlp0\"><a class=\"css-1f788d8 e1w3z7oe2\">Home</a><a class=\"css-1f788d8 e1w3z7oe2\">Competition</a><a class=\"css-1f788d8 e1w3z7oe2\" href=\"https://bnomial.gumroad.com/l/puebg\" target=\"_blank\">Past Questions</a><a class=\"css-1f788d8 e1w3z7oe2\">Sponsorships</a><a class=\"css-1f788d8 e1w3z7oe2\">Login</a></div></div><div class=\"css-ujmjij e1w3z7oe0\" style=\"height: auto !important;\"><div class=\"css-ujmjij e17a205r0\" style=\"height: auto !important;\"><div class=\"mb-auto mt-4 text-[#b6b6b6] md:mt-10 xl:mt-16\" style=\"height: auto !important;\"><div class=\"\" style=\"height: auto !important;\"><p class=\"text-center uppercase leading-7\"><span class=\"bg-[#282828] px-3 py-1 text-highlight md:py-3\">It's May 26 somewhere</span>  and here is today's question</p><p class=\"mx-auto mt-6 text-center text-gray-400\"></p><div class=\"relative mt-8 border-l-2 pl-8 border-gray-300\"><div class=\"absolute left-0 inline-block origin-left rotate-[270deg] bg-[#131313] px-3 uppercase text-gray-300\" style=\"top: 10rem;\">Today's question</div><div class=\"css-1fsj6j6 ey5cnfx3\"><h1 class=\"bg-[#282828] px-2 py-6 text-3xl font-bold text-gray-200 md:text-4xl lg:text-5xl\">Types of flowers</h1><div class=\"css-oounvd ey5cnfx2\"><span class=\"css-1djf0pi e12e3var0\"><p>Sarah is a computer science student who wants to build a machine-learning model for classifying types of flowers.</p>\n",
       "<p>She collected a dataset containing 150 flower samples with 3 features for each flower: the sepal length, the sepal width, and the petal length.</p>\n",
       "<p>As Sarah starts to build the model, she separates the features into a tensor <code>X</code> and the corresponding target labels into a tensor <code>y</code>.</p>\n",
       "<p><strong>What is the shape of the tensors <code>X</code> and <code>y</code>?</strong></p></span></div><div class=\"css-1t3qnof ey5cnfx1\"><div class=\"choice-active css-mmdz53 ey5cnfx0\"><label class=\"\"><input type=\"checkbox\"/><div class=\"inline-flex\"><div><span class=\"css-1djf0pi e12e3var0\"><p>The shape of <code>X</code> is (150, 3), and the shape of <code>y</code> is (150,)</p></span><p class=\"explanation\"></p></div></div></label></div><div class=\"choice-active css-mmdz53 ey5cnfx0\"><label class=\"\"><input type=\"checkbox\"/><div class=\"inline-flex\"><div><span class=\"css-1djf0pi e12e3var0\"><p>The shape of <code>X</code> is (3, 150), and the shape of <code>y</code> is (150,)</p></span><p class=\"explanation\"></p></div></div></label></div><div class=\"choice-active css-mmdz53 ey5cnfx0\"><label class=\"\"><input type=\"checkbox\"/><div class=\"inline-flex\"><div><span class=\"css-1djf0pi e12e3var0\"><p>The shape of <code>X</code> is (150, 3), and the shape of <code>y</code> is (150, 1)</p></span><p class=\"explanation\"></p></div></div></label></div><div class=\"choice-active css-mmdz53 ey5cnfx0\"><label class=\"\"><input type=\"checkbox\"/><div class=\"inline-flex\"><div><span class=\"css-1djf0pi e12e3var0\"><p>The shape of <code>X</code> is (150, 1), and the shape of <code>y</code> is (150, 3)</p></span><p class=\"explanation\"></p></div></div></label></div></div></div></div><div class=\"mt-12\"><div class=\"mt-12 text-center text-gray-400\">570 people have answered this question with 76% accuracy</div></div><div class=\"mx-auto mt-6 w-full md:w-2/3 lg:w-1/2\"><div><ins class=\"adsbygoogle\" data-ad-client=\"ca-pub-8393616364679298\" data-ad-format=\"auto\" data-ad-slot=\"1507925732\" data-adsbygoogle-status=\"done\" data-full-width-responsive=\"true\" style=\"display: block; height: 0px;\"><div aria-label=\"Advertisement\" id=\"aswift_1_host\" style=\"border: none; height: 0px; width: 474px; margin: 0px; padding: 0px; position: relative; visibility: visible; background-color: transparent; display: inline-block; overflow: hidden; opacity: 0;\" tabindex=\"0\" title=\"Advertisement\"><iframe allowtransparency=\"true\" data-google-container-id=\"a!2\" data-google-query-id=\"CPfAqeGmk_8CFQ5QnQkdlAgKVw\" data-load-complete=\"true\" frameborder=\"0\" height=\"0\" hspace=\"0\" id=\"aswift_1\" marginheight=\"0\" marginwidth=\"0\" name=\"aswift_1\" sandbox=\"allow-forms allow-popups allow-popups-to-escape-sandbox allow-same-origin allow-scripts allow-top-navigation-by-user-activation\" scrolling=\"no\" src=\"https://googleads.g.doubleclick.net/pagead/ads?client=ca-pub-8393616364679298&amp;output=html&amp;h=280&amp;slotname=1507925732&amp;adk=3491226313&amp;adf=3100830386&amp;pi=t.ma~as.1507925732&amp;w=474&amp;fwrn=4&amp;fwrnh=100&amp;lmt=1685115056&amp;rafmt=1&amp;format=474x280&amp;url=https%3A%2F%2Ftoday.bnomial.com%2F&amp;fwr=0&amp;fwrattr=true&amp;rpe=1&amp;resp_fmts=3&amp;wgl=1&amp;uach=WyJXaW5kb3dzIiwiMTQuMC4wIiwieDg2IiwiIiwiMTEzLjAuNTY3Mi4xMjciLFtdLDAsbnVsbCwiNjQiLFtbIkhlYWRsZXNzQ2hyb21lIiwiMTEzLjAuNTY3Mi4xMjciXSxbIkNocm9taXVtIiwiMTEzLjAuNTY3Mi4xMjciXSxbIk5vdC1BLkJyYW5kIiwiMjQuMC4wLjAiXV0sMF0.&amp;dt=1685115056596&amp;bpp=15&amp;bdt=1461&amp;idt=152&amp;shv=r20230523&amp;mjsv=m202305230101&amp;ptt=9&amp;saldr=aa&amp;abxe=1&amp;prev_fmts=0x0&amp;nras=1&amp;correlator=5651828479040&amp;frm=20&amp;pv=1&amp;ga_vid=1714678874.1685115057&amp;ga_sid=1685115057&amp;ga_hid=1969605531&amp;ga_fc=0&amp;u_tz=330&amp;u_his=2&amp;u_h=600&amp;u_w=800&amp;u_ah=600&amp;u_aw=800&amp;u_cd=24&amp;u_sd=1&amp;dmc=8&amp;adx=153&amp;ady=1094&amp;biw=779&amp;bih=600&amp;scr_x=0&amp;scr_y=0&amp;eid=44759927%2C44759842%2C44792108%2C44759876%2C31074869%2C44788442%2C44789923&amp;oid=2&amp;pvsid=3901814711144501&amp;tmod=1070062275&amp;uas=0&amp;nvt=1&amp;fc=1920&amp;brdim=0%2C0%2C0%2C0%2C800%2C0%2C800%2C600%2C800%2C600&amp;vis=1&amp;rsz=%7C%7CeEbr%7C&amp;abl=CS&amp;pfx=0&amp;fu=128&amp;bc=31&amp;ifi=2&amp;uci=a!2&amp;btvi=1&amp;fsb=1&amp;xpc=xizoZmqF8T&amp;p=https%3A//today.bnomial.com&amp;dtd=158\" style=\"left: 0px; position: absolute; top: 0px; border: 0px; width: 474px; height: 0px;\" vspace=\"0\" width=\"474\"></iframe></div></ins></div></div><div class=\"mt-6\"><button class=\"mx-auto block w-48 rounded-md bg-[#1DA1F2] px-3 py-3 text-center text-base text-white transition-all duration-200 hover:bg-[#0c7abf]\" disabled=\"\">Answer incognito</button></div></div><a id=\"loginform\"></a><div class=\"mt-16 rounded p-5\"><p class=\"text-center uppercase leading-7\"><span class=\"bg-[#282828] px-3 py-1 text-highlight md:py-3\">Login with a magic code</span>  and get access to time travel!</p><div><p class=\"mx-auto mt-8 max-w-2xl text-center\">Keep track of your progress, access tomorrow's question, and participate in the leaderboard.</p><div class=\"mt-8\"><div class=\"css-6iu9lj e14eqjee4\"><form><input name=\"email\" placeholder=\"Enter your email\" type=\"email\"/><div class=\"css-1ipnuqm e14eqjee3\"><input checked=\"\" id=\"subscribe\" name=\"subscribe\" type=\"checkbox\"/><label class=\"\" for=\"subscribe\">Send new questions to my inbox</label></div><button class=\"w-64 css-1ummo9d e14eqjee2\" disabled=\"\" type=\"submit\">Continue</button></form></div></div><p class=\"text-center text-sm\">We'll send you a magic code to your email</p></div></div><div class=\"mt-16\"></div></div></div></div><div class=\"css-am5558 e1osij4v0\"><p>Next question in <!-- -->8:29<!-- --> hours.<!-- --> <!-- -->You are not logged in,<!-- --> <a class=\"css-1f788d8 e1w3z7oe2\" href=\"/#loginform\">but you should.</a></p><p>For comments or feedback, contact us at<!-- --> <a class=\"css-1f788d8 e1w3z7oe2\" href=\"mailto:hey@bnomial.com\" target=\"_blank\">hey@bnomial.com</a> <!-- -->or<!-- --> <a class=\"css-1f788d8 e1w3z7oe2\" href=\"https://twitter.com/0xbnomial\" target=\"_blank\">@0xbnomial</a>.</p></div></div></div><script id=\"__NEXT_DATA__\" type=\"application/json\">{\"props\":{\"pageProps\":{\"question\":\"\"},\"__N_SSP\":true},\"page\":\"/\",\"query\":{},\"buildId\":\"LLLY-u0bpQq8_pA_BPK3O\",\"isFallback\":false,\"gssp\":true,\"scriptLoader\":[]}</script><script async=\"true\" data-api=\"/proxy/api/event\" data-domain=\"today.bnomial.com\" data-nscript=\"afterInteractive\" defer=\"true\" src=\"/js/script.outbound-links.js\"></script><script data-nscript=\"afterInteractive\" id=\"next-plausible-init\">window.plausible = window.plausible || function() { (window.plausible.q = window.plausible.q || []).push(arguments) }</script><next-route-announcer><p aria-live=\"assertive\" id=\"__next-route-announcer__\" role=\"alert\" style=\"border: 0px; clip: rect(0px, 0px, 0px, 0px); height: 1px; margin: -1px; overflow: hidden; padding: 0px; position: absolute; width: 1px; white-space: nowrap; overflow-wrap: normal;\"></p></next-route-announcer><script src=\"/_next/static/chunks/346-84c83790a9412c35.js\"></script><script src=\"/_next/static/chunks/140-40f69ceb6b19eb69.js\"></script><script src=\"/_next/static/chunks/585-b46fe7d9c2888a10.js\"></script><script src=\"/_next/static/chunks/pages/competition-d59e0ac9c2a3d9b6.js\"></script><script src=\"/_next/static/chunks/pages/sponsorship-5878138c25f79feb.js\"></script><ins class=\"adsbygoogle adsbygoogle-noablate\" data-adsbygoogle-status=\"done\" style=\"display: none !important;\"><div aria-label=\"Advertisement\" id=\"aswift_0_host\" style=\"border: none; height: 0px; width: 0px; margin: 0px; padding: 0px; position: relative; visibility: visible; background-color: transparent; display: inline-block;\" tabindex=\"0\" title=\"Advertisement\"><iframe allowtransparency=\"true\" data-google-container-id=\"a!1\" data-load-complete=\"true\" frameborder=\"0\" hspace=\"0\" id=\"aswift_0\" marginheight=\"0\" marginwidth=\"0\" name=\"aswift_0\" sandbox=\"allow-forms allow-popups allow-popups-to-escape-sandbox allow-same-origin allow-scripts allow-top-navigation-by-user-activation\" scrolling=\"no\" src=\"https://googleads.g.doubleclick.net/pagead/ads?client=ca-pub-8393616364679298&amp;output=html&amp;adk=1812271804&amp;adf=3025194257&amp;lmt=1685115056&amp;plat=1%3A8%2C2%3A8%2C3%3A2162688%2C4%3A2162688%2C9%3A32776%2C16%3A8388608%2C17%3A32%2C24%3A32%2C25%3A32%2C30%3A1048576%2C32%3A32%2C41%3A32%2C42%3A32&amp;format=0x0&amp;url=https%3A%2F%2Ftoday.bnomial.com%2F&amp;ea=0&amp;pra=5&amp;wgl=1&amp;uach=WyJXaW5kb3dzIiwiMTQuMC4wIiwieDg2IiwiIiwiMTEzLjAuNTY3Mi4xMjciLFtdLDAsbnVsbCwiNjQiLFtbIkhlYWRsZXNzQ2hyb21lIiwiMTEzLjAuNTY3Mi4xMjciXSxbIkNocm9taXVtIiwiMTEzLjAuNTY3Mi4xMjciXSxbIk5vdC1BLkJyYW5kIiwiMjQuMC4wLjAiXV0sMF0.&amp;dt=1685115056103&amp;bpp=2&amp;bdt=968&amp;idt=624&amp;shv=r20230523&amp;mjsv=m202305230101&amp;ptt=9&amp;saldr=aa&amp;abxe=1&amp;nras=1&amp;correlator=5651828479040&amp;frm=20&amp;pv=2&amp;ga_vid=1714678874.1685115057&amp;ga_sid=1685115057&amp;ga_hid=1969605531&amp;ga_fc=0&amp;u_tz=330&amp;u_his=2&amp;u_h=600&amp;u_w=800&amp;u_ah=600&amp;u_aw=800&amp;u_cd=24&amp;u_sd=1&amp;dmc=8&amp;adx=-12245933&amp;ady=-12245933&amp;biw=779&amp;bih=600&amp;scr_x=0&amp;scr_y=0&amp;eid=44759927%2C44759842%2C44792108%2C44759876%2C31074869%2C44788442%2C44789923&amp;oid=2&amp;pvsid=3901814711144501&amp;tmod=1070062275&amp;uas=0&amp;nvt=1&amp;fsapi=1&amp;fc=1920&amp;brdim=0%2C0%2C0%2C0%2C800%2C0%2C800%2C600%2C800%2C600&amp;vis=1&amp;rsz=%7C%7Cs%7C&amp;abl=NS&amp;fu=32768&amp;bc=31&amp;ifi=1&amp;uci=a!1&amp;fsb=1&amp;dtd=641\" style=\"left:0;position:absolute;top:0;border:0;width:undefinedpx;height:undefinedpx;\" vspace=\"0\"></iframe></div></ins></body><iframe id=\"google_esf\" name=\"google_esf\" src=\"https://googleads.g.doubleclick.net/pagead/html/r20230523/r20190131/zrt_lookup.html\" style=\"display: none;\"></iframe></html>"
      ]
     },
     "execution_count": 8,
     "metadata": {},
     "output_type": "execute_result"
    }
   ],
   "source": [
    "soup"
   ]
  },
  {
   "cell_type": "code",
   "execution_count": 9,
   "id": "34091c56",
   "metadata": {},
   "outputs": [
    {
     "data": {
      "text/plain": [
       "<title>One machine learning question every day - bnomial</title>"
      ]
     },
     "execution_count": 9,
     "metadata": {},
     "output_type": "execute_result"
    }
   ],
   "source": [
    "header=soup.title\n",
    "header"
   ]
  },
  {
   "cell_type": "code",
   "execution_count": 10,
   "id": "a05845ea",
   "metadata": {},
   "outputs": [],
   "source": [
    "driver.maximize_window()"
   ]
  },
  {
   "cell_type": "code",
   "execution_count": 2,
   "id": "a3976a5a",
   "metadata": {},
   "outputs": [],
   "source": [
    "def create_service():\n",
    "    \n",
    "    ## Setup chrome options\n",
    "    chrome_options = Options()\n",
    "    chrome_options.add_argument(\"--headless\") # Ensure GUI is off\n",
    "    chrome_options.add_argument(\"--no-sandbox\")\n",
    "    \n",
    "    # Create service\n",
    "    webdriver_service = Service(ChromeDriverManager().install())\n",
    "    \n",
    "    driver=webdriver.Chrome(service=webdriver_service,options = chrome_options)\n",
    "    return driver"
   ]
  },
  {
   "cell_type": "code",
   "execution_count": 3,
   "id": "f51cdb4e",
   "metadata": {},
   "outputs": [],
   "source": [
    "def get_weburl_contents():\n",
    "    driver = create_service()\n",
    "    page_url = \"https://today.bnomial.com/\"\n",
    "    driver.get(page_url)\n",
    "    soup = BeautifulSoup(driver.page_source, 'lxml')\n",
    "    return soup"
   ]
  },
  {
   "cell_type": "code",
   "execution_count": 7,
   "id": "12d6a874",
   "metadata": {},
   "outputs": [
    {
     "data": {
      "text/plain": [
       "<html><head><meta charset=\"utf-8\"/><meta content=\"width=device-width, initial-scale=1.0\" name=\"viewport\"/><meta content=\"Bnomial Inc.\" name=\"author\"/><meta content=\"One machine learning question every day - bnomial\" name=\"title\"/><meta content=\"Daily multi-choice machine learning, data science, and artificial intelligence questions.\" name=\"description\"/><meta content=\"One machine learning question every day - bnomial\" property=\"og:title\"/><meta content=\"Daily multi-choice machine learning, data science, and artificial intelligence questions.\" property=\"og:description\"/><meta content=\"https://today.bnomial.com/card_white.jpg\" property=\"og:image\"/><meta content=\"https://today.bnomial.com/?\" property=\"og:url\"/><meta content=\"One machine learning question every day - bnomial\" name=\"twitter:image:alt\"/><meta content=\"https://today.bnomial.com/card_white.jpg\" name=\"twitter:image\"/><title>One machine learning question every day - bnomial</title><meta content=\"12\" name=\"next-head-count\"/><meta charset=\"utf-8\"/><meta content=\"bnomial\" property=\"og:site_name\"/><meta content=\"@0xbnomial\" name=\"twitter:site\"/><meta content=\"@0xbnomial\" name=\"twitter:creator\"/><meta content=\"summary_large_image\" name=\"twitter:card\"/><link href=\"/icon.svg\" rel=\"icon\" type=\"image/svg\"/><link href=\"/apple-touch-icon.png\" rel=\"apple-touch-icon\" sizes=\"180x180\"/><link href=\"/favicon-32x32.png\" rel=\"icon\" sizes=\"32x32\" type=\"image/png\"/><link href=\"/favicon-16x16.png\" rel=\"icon\" sizes=\"16x16\" type=\"image/png\"/><link href=\"/manifest.json\" rel=\"manifest\"/><meta content=\"#000000\" name=\"theme-color\"/><meta content=\"GxUYda_a7Bl25p4Pwtq4YTMlAQfcVb1BzXRJf0L77vE\" name=\"google-site-verification\"/><script src=\"https://partner.googleadservices.com/gampad/cookie.js?domain=today.bnomial.com&amp;callback=_gfp_s_&amp;client=ca-pub-8393616364679298\"></script><script id=\"google_shimpl\" src=\"https://pagead2.googlesyndication.com/pagead/managed/js/adsense/m202305230101/show_ads_impl.js\"></script><script async=\"\" crossorigin=\"anonymous\" data-checked-head=\"true\" src=\"https://pagead2.googlesyndication.com/pagead/js/adsbygoogle.js?client=ca-pub-8393616364679298\"></script><meta name=\"next-font-preconnect\"/><link as=\"style\" href=\"/_next/static/css/1182de505aeef7f5.css\" rel=\"preload\"/><link data-n-g=\"\" href=\"/_next/static/css/1182de505aeef7f5.css\" rel=\"stylesheet\"/><noscript data-n-css=\"\"></noscript><script defer=\"\" nomodule=\"\" src=\"/_next/static/chunks/polyfills-5cd94c89d3acac5f.js\"></script><script defer=\"\" src=\"/_next/static/chunks/webpack-7efd0b3076fd5f88.js\"></script><script defer=\"\" src=\"/_next/static/chunks/framework-5f4595e5518b5600.js\"></script><script defer=\"\" src=\"/_next/static/chunks/main-06ec44127a586d9c.js\"></script><script defer=\"\" src=\"/_next/static/chunks/pages/_app-803386289ef96e44.js\"></script><script defer=\"\" src=\"/_next/static/chunks/0f1ac474-12a5ba4cf1469319.js\"></script><script defer=\"\" src=\"/_next/static/chunks/0eceb729-7fe62f6d4472acbc.js\"></script><script defer=\"\" src=\"/_next/static/chunks/985-fd1f502a77bdd976.js\"></script><script defer=\"\" src=\"/_next/static/chunks/517-02f3e71e31c5507e.js\"></script><script defer=\"\" src=\"/_next/static/chunks/942-f7e1f596d35c4935.js\"></script><script defer=\"\" src=\"/_next/static/chunks/270-2873d3f2e03adbbf.js\"></script><script defer=\"\" src=\"/_next/static/chunks/pages/index-51ed5e15a1ee7509.js\"></script><script defer=\"\" src=\"/_next/static/LLLY-u0bpQq8_pA_BPK3O/_buildManifest.js\"></script><script defer=\"\" src=\"/_next/static/LLLY-u0bpQq8_pA_BPK3O/_ssgManifest.js\"></script><script defer=\"\" src=\"/_next/static/LLLY-u0bpQq8_pA_BPK3O/_middlewareManifest.js\"></script><meta content=\"A7CQXglZzTrThjGTBEn1rWTxHOEtkWivwzgea+NjyardrwlieSjVuyG44PkYgIPGs8Q9svD8sF3Yedn0BBBjXAkAAACFeyJvcmlnaW4iOiJodHRwczovL2RvdWJsZWNsaWNrLm5ldDo0NDMiLCJmZWF0dXJlIjoiUHJpdmFjeVNhbmRib3hBZHNBUElzIiwiZXhwaXJ5IjoxNjk1MTY3OTk5LCJpc1N1YmRvbWFpbiI6dHJ1ZSwiaXNUaGlyZFBhcnR5Ijp0cnVlfQ==\" http-equiv=\"origin-trial\"/><meta content=\"A3vKT9yxRPjmXN3DpIiz58f5JykcWHjUo/W7hvmtjgh9jPpQgem9VbADiNovG8NkO6mRmk70Kex8/KUqAYWVWAEAAACLeyJvcmlnaW4iOiJodHRwczovL2dvb2dsZXN5bmRpY2F0aW9uLmNvbTo0NDMiLCJmZWF0dXJlIjoiUHJpdmFjeVNhbmRib3hBZHNBUElzIiwiZXhwaXJ5IjoxNjk1MTY3OTk5LCJpc1N1YmRvbWFpbiI6dHJ1ZSwiaXNUaGlyZFBhcnR5Ijp0cnVlfQ==\" http-equiv=\"origin-trial\"/><meta content=\"A4A26Ymj79UVY7C7JGUS4BG1s7MdcDokAQf/RP0paks+RoTYbXHxceT/5L4iKcsleFCngi75YfNRGW2+SpVv1ggAAACLeyJvcmlnaW4iOiJodHRwczovL2dvb2dsZXRhZ3NlcnZpY2VzLmNvbTo0NDMiLCJmZWF0dXJlIjoiUHJpdmFjeVNhbmRib3hBZHNBUElzIiwiZXhwaXJ5IjoxNjk1MTY3OTk5LCJpc1N1YmRvbWFpbiI6dHJ1ZSwiaXNUaGlyZFBhcnR5Ijp0cnVlfQ==\" http-equiv=\"origin-trial\"/><meta content=\"As0hBNJ8h++fNYlkq8cTye2qDLyom8NddByiVytXGGD0YVE+2CEuTCpqXMDxdhOMILKoaiaYifwEvCRlJ/9GcQ8AAAB8eyJvcmlnaW4iOiJodHRwczovL2RvdWJsZWNsaWNrLm5ldDo0NDMiLCJmZWF0dXJlIjoiV2ViVmlld1hSZXF1ZXN0ZWRXaXRoRGVwcmVjYXRpb24iLCJleHBpcnkiOjE3MTk1MzI3OTksImlzU3ViZG9tYWluIjp0cnVlfQ==\" http-equiv=\"origin-trial\"/><meta content=\"AgRYsXo24ypxC89CJanC+JgEmraCCBebKl8ZmG7Tj5oJNx0cmH0NtNRZs3NB5ubhpbX/bIt7l2zJOSyO64NGmwMAAACCeyJvcmlnaW4iOiJodHRwczovL2dvb2dsZXN5bmRpY2F0aW9uLmNvbTo0NDMiLCJmZWF0dXJlIjoiV2ViVmlld1hSZXF1ZXN0ZWRXaXRoRGVwcmVjYXRpb24iLCJleHBpcnkiOjE3MTk1MzI3OTksImlzU3ViZG9tYWluIjp0cnVlfQ==\" http-equiv=\"origin-trial\"/><link as=\"script\" href=\"https://adservice.google.co.in/adsid/integrator.js?domain=today.bnomial.com\" rel=\"preload\"/><script src=\"https://adservice.google.co.in/adsid/integrator.js?domain=today.bnomial.com\" type=\"text/javascript\"></script><link as=\"script\" href=\"https://adservice.google.com/adsid/integrator.js?domain=today.bnomial.com\" rel=\"preload\"/><script src=\"https://adservice.google.com/adsid/integrator.js?domain=today.bnomial.com\" type=\"text/javascript\"></script><style data-emotion=\"css 1ru35do\" data-s=\"\">.css-1ru35do{padding-left:0.75rem;padding-right:0.75rem;padding-top:2rem;padding-bottom:2rem;max-width:1024px;margin-left:auto;margin-right:auto;display:-webkit-box;display:-webkit-flex;display:-ms-flexbox;display:flex;-webkit-flex-direction:column;-ms-flex-direction:column;flex-direction:column;height:100vh;-webkit-box-pack:start;-ms-flex-pack:start;-webkit-justify-content:flex-start;justify-content:flex-start;}@media (min-width: 768px){.css-1ru35do{padding-left:2rem;padding-right:2rem;}}</style><style data-emotion=\"css 1kg0r1d\" data-s=\"\">.css-1kg0r1d{margin-bottom:3rem;text-align:center;}@media (min-width: 640px){.css-1kg0r1d{text-align:left;}}.css-1kg0r1d a{margin-left:auto;margin-right:auto;display:block;text-align:center;}</style><style data-emotion=\"css 1g93b4s\" data-s=\"\">.css-1g93b4s{position:relative;}.css-1g93b4s h1{position:relative;margin-top:1rem;font-size:1.9rem;--tw-text-opacity:1;color:rgba(255, 255, 255, var(--tw-text-opacity));text-align:center;line-height:2.25rem;z-index:20;}@media (min-width: 768px){.css-1g93b4s h1{font-size:2.5rem;}}.css-1g93b4s div{height:2.5rem;width:91.666667%;--tw-bg-opacity:1;background-color:rgba(40, 40, 40, var(--tw-bg-opacity));margin-left:auto;margin-right:auto;position:absolute;top:1rem;left:0px;right:0px;z-index:10;-webkit-transform:rotate(-4deg) translatey(0px);-moz-transform:rotate(-4deg) translatey(0px);-ms-transform:rotate(-4deg) translatey(0px);transform:rotate(-4deg) translatey(0px);}@media (min-width: 768px){.css-1g93b4s div{width:75%;top:0px;}}@media (min-width: 768px){.css-1g93b4s div{-webkit-transform:rotate(-2deg) translatey(10px);-moz-transform:rotate(-2deg) translatey(10px);-ms-transform:rotate(-2deg) translatey(10px);transform:rotate(-2deg) translatey(10px);}}</style><style data-emotion=\"css 1m1v4ua\" data-s=\"\">.css-1m1v4ua{margin-top:1.5rem;display:-webkit-box;display:-webkit-flex;display:-ms-flexbox;display:flex;-webkit-box-flex-wrap:wrap;-webkit-flex-wrap:wrap;-ms-flex-wrap:wrap;flex-wrap:wrap;-webkit-box-pack:center;-ms-flex-pack:center;-webkit-justify-content:center;justify-content:center;font-size:0.875rem;line-height:1.25rem;}.css-1m1v4ua a,.css-1m1v4ua button{margin-left:1rem;margin-right:1rem;margin-top:0.25rem;margin-bottom:0.25rem;}</style><style data-emotion=\"css 1f788d8\" data-s=\"\">.css-1f788d8{--tw-text-opacity:1;color:rgba(77, 184, 229, var(--tw-text-opacity));cursor:pointer;}.css-1f788d8:hover{--tw-text-opacity:1;color:rgba(255, 255, 255, var(--tw-text-opacity));}</style><style data-emotion=\"css ujmjij\" data-s=\"\">.css-ujmjij{margin-bottom:auto;}</style><style data-emotion=\"css am5558\" data-s=\"\">.css-am5558{text-align:center;--tw-text-opacity:1;color:rgba(118, 118, 118, var(--tw-text-opacity));font-size:0.875rem;line-height:1.25rem;margin-top:2rem;padding-top:1.5rem;padding-bottom:1.5rem;border-top-width:2px;--tw-border-opacity:1;border-color:rgba(31, 41, 55, var(--tw-border-opacity));margin-left:auto;margin-right:auto;max-width:72rem;}.css-am5558 p{padding-top:0.25rem;padding-bottom:0.25rem;}</style><style data-emotion=\"css\" data-s=\"\"></style><link as=\"script\" href=\"/_next/static/chunks/pages/competition-d59e0ac9c2a3d9b6.js\" rel=\"prefetch\"/><link as=\"script\" href=\"/_next/static/chunks/pages/sponsorship-5878138c25f79feb.js\" rel=\"prefetch\"/></head><body><div data-reactroot=\"\" id=\"__next\"><div class=\"css-1ru35do e1w3z7oe1\"><div class=\"css-1kg0r1d e1a43dlp2\"><a href=\"/\"><span style=\"box-sizing:border-box;display:inline-block;overflow:hidden;width:initial;height:initial;background:none;opacity:1;border:0;margin:0;padding:0;position:relative;max-width:100%\"><span style=\"box-sizing:border-box;display:block;width:initial;height:initial;background:none;opacity:1;border:0;margin:0;padding:0;max-width:100%\"><img alt=\"\" aria-hidden=\"true\" src=\"data:image/svg+xml,%3csvg%20xmlns=%27http://www.w3.org/2000/svg%27%20version=%271.1%27%20width=%27200%27%20height=%2738%27/%3e\" style=\"display:block;max-width:100%;width:initial;height:initial;background:none;opacity:1;border:0;margin:0;padding:0\"/></span><img alt=\"Bnomial logo\" data-nimg=\"intrinsic\" decoding=\"async\" src=\"/bnomial.svg\" srcset=\"/bnomial.svg 1x, /bnomial.svg 2x\" style=\"position:absolute;top:0;left:0;bottom:0;right:0;box-sizing:border-box;padding:0;border:none;margin:auto;display:block;width:0;height:0;min-width:100%;max-width:100%;min-height:100%;max-height:100%\"/><noscript><img alt=\"Bnomial logo\" data-nimg=\"intrinsic\" decoding=\"async\" loading=\"lazy\" src=\"/bnomial.svg\" srcset=\"/bnomial.svg 1x, /bnomial.svg 2x\" style=\"position:absolute;top:0;left:0;bottom:0;right:0;box-sizing:border-box;padding:0;border:none;margin:auto;display:block;width:0;height:0;min-width:100%;max-width:100%;min-height:100%;max-height:100%\"/></noscript></span></a><div class=\"css-1g93b4s e1a43dlp1\"><h1>MACHINE LEARNING QUESTIONS</h1><div></div></div><div class=\"css-1m1v4ua e1a43dlp0\"><a class=\"css-1f788d8 e1w3z7oe2\">Home</a><a class=\"css-1f788d8 e1w3z7oe2\">Competition</a><a class=\"css-1f788d8 e1w3z7oe2\" href=\"https://bnomial.gumroad.com/l/puebg\" target=\"_blank\">Past Questions</a><a class=\"css-1f788d8 e1w3z7oe2\">Sponsorships</a><a class=\"css-1f788d8 e1w3z7oe2\">Login</a></div></div><div class=\"css-ujmjij e1w3z7oe0\"><div class=\"css-ujmjij e17a205r0\"><div class=\"mb-auto mt-4 text-[#b6b6b6] md:mt-10 xl:mt-16\"><a id=\"loginform\"></a><div class=\"mt-16 rounded p-5\"><p class=\"text-center uppercase leading-7\"><span class=\"bg-[#282828] px-3 py-1 text-highlight md:py-3\">Login with a magic code</span>  and get access to time travel!</p><div><p class=\"mx-auto mt-8 max-w-2xl text-center\">Keep track of your progress, access tomorrow's question, and participate in the leaderboard.</p><div class=\"mt-8\"><div class=\"css-6iu9lj e14eqjee4\"><form><input name=\"email\" placeholder=\"Enter your email\" type=\"email\"/><div class=\"css-1ipnuqm e14eqjee3\"><input checked=\"\" id=\"subscribe\" name=\"subscribe\" type=\"checkbox\"/><label class=\"\" for=\"subscribe\">Send new questions to my inbox</label></div><button class=\"w-64 css-1ummo9d e14eqjee2\" disabled=\"\" type=\"submit\">Continue</button></form></div></div><p class=\"text-center text-sm\">We'll send you a magic code to your email</p></div></div><div class=\"mt-16\"></div></div></div></div><div class=\"css-am5558 e1osij4v0\"><p>Next question in <!-- -->8:21<!-- --> hours.<!-- --> <!-- -->You are not logged in,<!-- --> <a class=\"css-1f788d8 e1w3z7oe2\" href=\"/#loginform\">but you should.</a></p><p>For comments or feedback, contact us at<!-- --> <a class=\"css-1f788d8 e1w3z7oe2\" href=\"mailto:hey@bnomial.com\" target=\"_blank\">hey@bnomial.com</a> <!-- -->or<!-- --> <a class=\"css-1f788d8 e1w3z7oe2\" href=\"https://twitter.com/0xbnomial\" target=\"_blank\">@0xbnomial</a>.</p></div></div></div><script id=\"__NEXT_DATA__\" type=\"application/json\">{\"props\":{\"pageProps\":{\"question\":\"\"},\"__N_SSP\":true},\"page\":\"/\",\"query\":{},\"buildId\":\"LLLY-u0bpQq8_pA_BPK3O\",\"isFallback\":false,\"gssp\":true,\"scriptLoader\":[]}</script><ins class=\"adsbygoogle adsbygoogle-noablate\" data-ad-status=\"unfilled\" data-adsbygoogle-status=\"done\" style=\"display: none !important;\"><div aria-label=\"Advertisement\" id=\"aswift_0_host\" style=\"border: none; height: 0px; width: 0px; margin: 0px; padding: 0px; position: relative; visibility: visible; background-color: transparent; display: inline-block;\" tabindex=\"0\" title=\"Advertisement\"><iframe allowtransparency=\"true\" data-google-container-id=\"a!1\" data-load-complete=\"true\" frameborder=\"0\" hspace=\"0\" id=\"aswift_0\" marginheight=\"0\" marginwidth=\"0\" name=\"aswift_0\" sandbox=\"allow-forms allow-popups allow-popups-to-escape-sandbox allow-same-origin allow-scripts allow-top-navigation-by-user-activation\" scrolling=\"no\" src=\"https://googleads.g.doubleclick.net/pagead/ads?client=ca-pub-8393616364679298&amp;output=html&amp;adk=1812271804&amp;adf=3025194257&amp;lmt=1685115498&amp;plaf=7%3A2&amp;plat=1%3A8%2C2%3A8%2C3%3A128%2C4%3A128%2C9%3A32776%2C16%3A8388608%2C17%3A32%2C24%3A32%2C25%3A32%2C30%3A1048576%2C32%3A32%2C41%3A32%2C42%3A32&amp;format=0x0&amp;url=https%3A%2F%2Ftoday.bnomial.com%2F&amp;ea=0&amp;pra=5&amp;wgl=1&amp;uach=WyJXaW5kb3dzIiwiMTQuMC4wIiwieDg2IiwiIiwiMTEzLjAuNTY3Mi4xMjciLFtdLDAsbnVsbCwiNjQiLFtbIkhlYWRsZXNzQ2hyb21lIiwiMTEzLjAuNTY3Mi4xMjciXSxbIkNocm9taXVtIiwiMTEzLjAuNTY3Mi4xMjciXSxbIk5vdC1BLkJyYW5kIiwiMjQuMC4wLjAiXV0sMF0.&amp;dt=1685115497805&amp;bpp=2&amp;bdt=554&amp;idt=530&amp;shv=r20230523&amp;mjsv=m202305230101&amp;ptt=9&amp;saldr=aa&amp;abxe=1&amp;nras=1&amp;correlator=916404685415&amp;frm=20&amp;pv=2&amp;ga_vid=1823252896.1685115498&amp;ga_sid=1685115498&amp;ga_hid=1232906824&amp;ga_fc=0&amp;u_tz=330&amp;u_his=2&amp;u_h=600&amp;u_w=800&amp;u_ah=600&amp;u_aw=800&amp;u_cd=24&amp;u_sd=1&amp;dmc=8&amp;adx=-12245933&amp;ady=-12245933&amp;biw=800&amp;bih=600&amp;scr_x=0&amp;scr_y=0&amp;eid=44759842%2C44759875%2C44759926%2C31074583%2C44788441%2C44792646%2C44789817&amp;oid=2&amp;pvsid=3677169908619094&amp;tmod=1400236375&amp;uas=0&amp;nvt=1&amp;fc=1920&amp;brdim=0%2C0%2C0%2C0%2C800%2C0%2C800%2C600%2C800%2C600&amp;vis=1&amp;rsz=%7C%7Cs%7C&amp;abl=NS&amp;fu=32768&amp;bc=31&amp;ifi=1&amp;uci=a!1&amp;fsb=1&amp;dtd=548\" style=\"left:0;position:absolute;top:0;border:0;width:undefinedpx;height:undefinedpx;\" vspace=\"0\"></iframe></div></ins><script async=\"true\" data-api=\"/proxy/api/event\" data-domain=\"today.bnomial.com\" data-nscript=\"afterInteractive\" defer=\"true\" src=\"/js/script.outbound-links.js\"></script><script data-nscript=\"afterInteractive\" id=\"next-plausible-init\">window.plausible = window.plausible || function() { (window.plausible.q = window.plausible.q || []).push(arguments) }</script><next-route-announcer><p aria-live=\"assertive\" id=\"__next-route-announcer__\" role=\"alert\" style=\"border: 0px; clip: rect(0px, 0px, 0px, 0px); height: 1px; margin: -1px; overflow: hidden; padding: 0px; position: absolute; width: 1px; white-space: nowrap; overflow-wrap: normal;\"></p></next-route-announcer><script src=\"/_next/static/chunks/346-84c83790a9412c35.js\"></script><script src=\"/_next/static/chunks/140-40f69ceb6b19eb69.js\"></script><script src=\"/_next/static/chunks/585-b46fe7d9c2888a10.js\"></script><script src=\"/_next/static/chunks/pages/competition-d59e0ac9c2a3d9b6.js\"></script><script src=\"/_next/static/chunks/pages/sponsorship-5878138c25f79feb.js\"></script></body><iframe id=\"google_esf\" name=\"google_esf\" src=\"https://googleads.g.doubleclick.net/pagead/html/r20230523/r20190131/zrt_lookup.html\" style=\"display: none;\"></iframe></html>"
      ]
     },
     "execution_count": 7,
     "metadata": {},
     "output_type": "execute_result"
    }
   ],
   "source": [
    "get_weburl_contents()"
   ]
  },
  {
   "cell_type": "code",
   "execution_count": null,
   "id": "28042a17",
   "metadata": {},
   "outputs": [],
   "source": []
  },
  {
   "cell_type": "code",
   "execution_count": 4,
   "id": "af68283a",
   "metadata": {},
   "outputs": [],
   "source": [
    "def click_checkbox(driver):\n",
    "    WebDriverWait(driver, 60).until(EC.element_to_be_clickable((By.XPATH, \"//label//input[@type='checkbox']\"))).click()\n",
    "    WebDriverWait(driver, 60).until(EC.element_to_be_clickable((By.XPATH, \"//button\"))).click()"
   ]
  },
  {
   "cell_type": "code",
   "execution_count": null,
   "id": "dc131333",
   "metadata": {},
   "outputs": [],
   "source": []
  },
  {
   "cell_type": "code",
   "execution_count": null,
   "id": "2bb121e2",
   "metadata": {},
   "outputs": [],
   "source": []
  },
  {
   "cell_type": "code",
   "execution_count": 12,
   "id": "8e90e5f8",
   "metadata": {},
   "outputs": [],
   "source": [
    "WebDriverWait(driver, 10).until(EC.element_to_be_clickable((By.XPATH, \"//label//input[@type='checkbox']\"))).click()"
   ]
  },
  {
   "cell_type": "code",
   "execution_count": 14,
   "id": "f8e29785",
   "metadata": {},
   "outputs": [],
   "source": [
    "WebDriverWait(driver, 10).until(EC.element_to_be_clickable((By.XPATH, \"//button\"))).click()"
   ]
  },
  {
   "cell_type": "code",
   "execution_count": null,
   "id": "c0e0547f",
   "metadata": {},
   "outputs": [],
   "source": []
  },
  {
   "cell_type": "code",
   "execution_count": 5,
   "id": "e04cee57",
   "metadata": {},
   "outputs": [],
   "source": [
    "def web_scrape_contents():\n",
    "    driver = create_service()\n",
    "    soup=get_weburl_contents()\n",
    "    click_checkbox(driver)\n",
    "    date = soup.find(\"p\",{\"class\":\"text-center uppercase leading-7\"}).find(\"span\",attrs={\"class\":\"bg-[#282828] px-3 py-1 text-highlight md:py-3\"})\n",
    "    title_qs = soup.find(\"div\",{\"class\":\"css-1fsj6j6 ey5cnfx3\"}).find(\"h1\",attrs={\"class\":\"bg-[#282828] px-2 py-6 text-3xl font-bold text-gray-200 md:text-4xl lg:text-5xl\"}).text\n",
    "    test1=driver.find_elements(By.XPATH, \"//span[@class='css-1djf0pi e12e3var0']\")\n",
    "    question=test1[0].text\n",
    "\n",
    "    ops1=test1[1].text\n",
    "    ops2=test1[2].text\n",
    "    ops3=test1[3].text\n",
    "    ops4=test1[4].text\n",
    "\n",
    "    ans=test1[5].text\n",
    "\n",
    "    ref=test1[6].text\n",
    "    \n",
    "#     urls links\n",
    "    url1=driver.find_elements(By.XPATH, \"//span[@class='css-1djf0pi e12e3var0']/ul/li/a\")\n",
    "    urls_ops=[]\n",
    "    for urls in url1:\n",
    "        urls_ops.append(urls.get_attribute(\"href\"))\n",
    "    \n",
    "    d={'date':date,\n",
    "      'Qs_title':title_qs,\n",
    "      'question':question,\n",
    "      'Option1':ops1,\n",
    "      'Option2':ops2,\n",
    "      'Option3':ops3,\n",
    "      'Option4':ops4,\n",
    "      'answer':ans,\n",
    "      'references':ref,\n",
    "      'urls_list':[urls_ops]}\n",
    "    \n",
    "    return d"
   ]
  },
  {
   "cell_type": "code",
   "execution_count": 6,
   "id": "01059e3b",
   "metadata": {},
   "outputs": [
    {
     "ename": "TimeoutException",
     "evalue": "Message: \nStacktrace:\nBacktrace:\n\tGetHandleVerifier [0x004D8893+48451]\n\t(No symbol) [0x0046B8A1]\n\t(No symbol) [0x00375058]\n\t(No symbol) [0x003A0467]\n\t(No symbol) [0x003A069B]\n\t(No symbol) [0x003CDD92]\n\t(No symbol) [0x003BA304]\n\t(No symbol) [0x003CC482]\n\t(No symbol) [0x003BA0B6]\n\t(No symbol) [0x00397E08]\n\t(No symbol) [0x00398F2D]\n\tGetHandleVerifier [0x00738E3A+2540266]\n\tGetHandleVerifier [0x00778959+2801161]\n\tGetHandleVerifier [0x0077295C+2776588]\n\tGetHandleVerifier [0x00562280+612144]\n\t(No symbol) [0x00474F6C]\n\t(No symbol) [0x004711D8]\n\t(No symbol) [0x004712BB]\n\t(No symbol) [0x00464857]\n\tBaseThreadInitThunk [0x76956BA9+25]\n\tRtlGetFullPathName_UEx [0x775A8F9F+1215]\n\tRtlGetFullPathName_UEx [0x775A8F6D+1165]\n",
     "output_type": "error",
     "traceback": [
      "\u001b[1;31m---------------------------------------------------------------------------\u001b[0m",
      "\u001b[1;31mTimeoutException\u001b[0m                          Traceback (most recent call last)",
      "Cell \u001b[1;32mIn [6], line 1\u001b[0m\n\u001b[1;32m----> 1\u001b[0m row\u001b[38;5;241m=\u001b[39m\u001b[43mweb_scrape_contents\u001b[49m\u001b[43m(\u001b[49m\u001b[43m)\u001b[49m\n\u001b[0;32m      2\u001b[0m row\n",
      "Cell \u001b[1;32mIn [5], line 4\u001b[0m, in \u001b[0;36mweb_scrape_contents\u001b[1;34m()\u001b[0m\n\u001b[0;32m      2\u001b[0m driver \u001b[38;5;241m=\u001b[39m create_service()\n\u001b[0;32m      3\u001b[0m soup\u001b[38;5;241m=\u001b[39mget_weburl_contents()\n\u001b[1;32m----> 4\u001b[0m \u001b[43mclick_checkbox\u001b[49m\u001b[43m(\u001b[49m\u001b[43mdriver\u001b[49m\u001b[43m)\u001b[49m\n\u001b[0;32m      5\u001b[0m date \u001b[38;5;241m=\u001b[39m soup\u001b[38;5;241m.\u001b[39mfind(\u001b[38;5;124m\"\u001b[39m\u001b[38;5;124mp\u001b[39m\u001b[38;5;124m\"\u001b[39m,{\u001b[38;5;124m\"\u001b[39m\u001b[38;5;124mclass\u001b[39m\u001b[38;5;124m\"\u001b[39m:\u001b[38;5;124m\"\u001b[39m\u001b[38;5;124mtext-center uppercase leading-7\u001b[39m\u001b[38;5;124m\"\u001b[39m})\u001b[38;5;241m.\u001b[39mfind(\u001b[38;5;124m\"\u001b[39m\u001b[38;5;124mspan\u001b[39m\u001b[38;5;124m\"\u001b[39m,attrs\u001b[38;5;241m=\u001b[39m{\u001b[38;5;124m\"\u001b[39m\u001b[38;5;124mclass\u001b[39m\u001b[38;5;124m\"\u001b[39m:\u001b[38;5;124m\"\u001b[39m\u001b[38;5;124mbg-[#282828] px-3 py-1 text-highlight md:py-3\u001b[39m\u001b[38;5;124m\"\u001b[39m})\n\u001b[0;32m      6\u001b[0m title_qs \u001b[38;5;241m=\u001b[39m soup\u001b[38;5;241m.\u001b[39mfind(\u001b[38;5;124m\"\u001b[39m\u001b[38;5;124mdiv\u001b[39m\u001b[38;5;124m\"\u001b[39m,{\u001b[38;5;124m\"\u001b[39m\u001b[38;5;124mclass\u001b[39m\u001b[38;5;124m\"\u001b[39m:\u001b[38;5;124m\"\u001b[39m\u001b[38;5;124mcss-1fsj6j6 ey5cnfx3\u001b[39m\u001b[38;5;124m\"\u001b[39m})\u001b[38;5;241m.\u001b[39mfind(\u001b[38;5;124m\"\u001b[39m\u001b[38;5;124mh1\u001b[39m\u001b[38;5;124m\"\u001b[39m,attrs\u001b[38;5;241m=\u001b[39m{\u001b[38;5;124m\"\u001b[39m\u001b[38;5;124mclass\u001b[39m\u001b[38;5;124m\"\u001b[39m:\u001b[38;5;124m\"\u001b[39m\u001b[38;5;124mbg-[#282828] px-2 py-6 text-3xl font-bold text-gray-200 md:text-4xl lg:text-5xl\u001b[39m\u001b[38;5;124m\"\u001b[39m})\u001b[38;5;241m.\u001b[39mtext\n",
      "Cell \u001b[1;32mIn [4], line 2\u001b[0m, in \u001b[0;36mclick_checkbox\u001b[1;34m(driver)\u001b[0m\n\u001b[0;32m      1\u001b[0m \u001b[38;5;28;01mdef\u001b[39;00m \u001b[38;5;21mclick_checkbox\u001b[39m(driver):\n\u001b[1;32m----> 2\u001b[0m     \u001b[43mWebDriverWait\u001b[49m\u001b[43m(\u001b[49m\u001b[43mdriver\u001b[49m\u001b[43m,\u001b[49m\u001b[43m \u001b[49m\u001b[38;5;241;43m60\u001b[39;49m\u001b[43m)\u001b[49m\u001b[38;5;241;43m.\u001b[39;49m\u001b[43muntil\u001b[49m\u001b[43m(\u001b[49m\u001b[43mEC\u001b[49m\u001b[38;5;241;43m.\u001b[39;49m\u001b[43melement_to_be_clickable\u001b[49m\u001b[43m(\u001b[49m\u001b[43m(\u001b[49m\u001b[43mBy\u001b[49m\u001b[38;5;241;43m.\u001b[39;49m\u001b[43mXPATH\u001b[49m\u001b[43m,\u001b[49m\u001b[43m \u001b[49m\u001b[38;5;124;43m\"\u001b[39;49m\u001b[38;5;124;43m//label//input[@type=\u001b[39;49m\u001b[38;5;124;43m'\u001b[39;49m\u001b[38;5;124;43mcheckbox\u001b[39;49m\u001b[38;5;124;43m'\u001b[39;49m\u001b[38;5;124;43m]\u001b[39;49m\u001b[38;5;124;43m\"\u001b[39;49m\u001b[43m)\u001b[49m\u001b[43m)\u001b[49m\u001b[43m)\u001b[49m\u001b[38;5;241m.\u001b[39mclick()\n\u001b[0;32m      3\u001b[0m     WebDriverWait(driver, \u001b[38;5;241m60\u001b[39m)\u001b[38;5;241m.\u001b[39muntil(EC\u001b[38;5;241m.\u001b[39melement_to_be_clickable((By\u001b[38;5;241m.\u001b[39mXPATH, \u001b[38;5;124m\"\u001b[39m\u001b[38;5;124m//button\u001b[39m\u001b[38;5;124m\"\u001b[39m)))\u001b[38;5;241m.\u001b[39mclick()\n",
      "File \u001b[1;32m~\\anaconda3\\lib\\site-packages\\selenium\\webdriver\\support\\wait.py:90\u001b[0m, in \u001b[0;36mWebDriverWait.until\u001b[1;34m(self, method, message)\u001b[0m\n\u001b[0;32m     88\u001b[0m     \u001b[38;5;28;01mif\u001b[39;00m time\u001b[38;5;241m.\u001b[39mmonotonic() \u001b[38;5;241m>\u001b[39m end_time:\n\u001b[0;32m     89\u001b[0m         \u001b[38;5;28;01mbreak\u001b[39;00m\n\u001b[1;32m---> 90\u001b[0m \u001b[38;5;28;01mraise\u001b[39;00m TimeoutException(message, screen, stacktrace)\n",
      "\u001b[1;31mTimeoutException\u001b[0m: Message: \nStacktrace:\nBacktrace:\n\tGetHandleVerifier [0x004D8893+48451]\n\t(No symbol) [0x0046B8A1]\n\t(No symbol) [0x00375058]\n\t(No symbol) [0x003A0467]\n\t(No symbol) [0x003A069B]\n\t(No symbol) [0x003CDD92]\n\t(No symbol) [0x003BA304]\n\t(No symbol) [0x003CC482]\n\t(No symbol) [0x003BA0B6]\n\t(No symbol) [0x00397E08]\n\t(No symbol) [0x00398F2D]\n\tGetHandleVerifier [0x00738E3A+2540266]\n\tGetHandleVerifier [0x00778959+2801161]\n\tGetHandleVerifier [0x0077295C+2776588]\n\tGetHandleVerifier [0x00562280+612144]\n\t(No symbol) [0x00474F6C]\n\t(No symbol) [0x004711D8]\n\t(No symbol) [0x004712BB]\n\t(No symbol) [0x00464857]\n\tBaseThreadInitThunk [0x76956BA9+25]\n\tRtlGetFullPathName_UEx [0x775A8F9F+1215]\n\tRtlGetFullPathName_UEx [0x775A8F6D+1165]\n"
     ]
    }
   ],
   "source": [
    "row=web_scrape_contents()\n",
    "row"
   ]
  },
  {
   "cell_type": "code",
   "execution_count": null,
   "id": "7b416642",
   "metadata": {},
   "outputs": [],
   "source": []
  },
  {
   "cell_type": "code",
   "execution_count": null,
   "id": "72b6fef8",
   "metadata": {},
   "outputs": [],
   "source": []
  },
  {
   "cell_type": "code",
   "execution_count": 15,
   "id": "a33cb6e0",
   "metadata": {},
   "outputs": [
    {
     "data": {
      "text/plain": [
       "\"It's May 24 somewhere\""
      ]
     },
     "execution_count": 15,
     "metadata": {},
     "output_type": "execute_result"
    }
   ],
   "source": [
    "date = soup.find(\"p\",{\"class\":\"text-center uppercase leading-7\"}).find(\"span\",attrs={\"class\":\"bg-[#282828] px-3 py-1 text-highlight md:py-3\"}).text\n",
    "date"
   ]
  },
  {
   "cell_type": "code",
   "execution_count": 16,
   "id": "1ee5f93a",
   "metadata": {},
   "outputs": [
    {
     "name": "stdout",
     "output_type": "stream",
     "text": [
      "Piece replacement\n"
     ]
    }
   ],
   "source": [
    "title_qs = soup.find(\"div\",{\"class\":\"css-1fsj6j6 ey5cnfx3\"}).find(\"h1\",attrs={\"class\":\"bg-[#282828] px-2 py-6 text-3xl font-bold text-gray-200 md:text-4xl lg:text-5xl\"}).text\n",
    "print(title_qs)"
   ]
  },
  {
   "cell_type": "code",
   "execution_count": 17,
   "id": "4c176f6b",
   "metadata": {},
   "outputs": [
    {
     "data": {
      "text/plain": [
       "[<selenium.webdriver.remote.webelement.WebElement (session=\"c469069f0d855443ab0b5a5f4917fe11\", element=\"8CEF06D887CAC2A83D3260CAAEE08C4B_element_45\")>,\n",
       " <selenium.webdriver.remote.webelement.WebElement (session=\"c469069f0d855443ab0b5a5f4917fe11\", element=\"8CEF06D887CAC2A83D3260CAAEE08C4B_element_70\")>,\n",
       " <selenium.webdriver.remote.webelement.WebElement (session=\"c469069f0d855443ab0b5a5f4917fe11\", element=\"8CEF06D887CAC2A83D3260CAAEE08C4B_element_71\")>,\n",
       " <selenium.webdriver.remote.webelement.WebElement (session=\"c469069f0d855443ab0b5a5f4917fe11\", element=\"8CEF06D887CAC2A83D3260CAAEE08C4B_element_72\")>,\n",
       " <selenium.webdriver.remote.webelement.WebElement (session=\"c469069f0d855443ab0b5a5f4917fe11\", element=\"8CEF06D887CAC2A83D3260CAAEE08C4B_element_73\")>,\n",
       " <selenium.webdriver.remote.webelement.WebElement (session=\"c469069f0d855443ab0b5a5f4917fe11\", element=\"8CEF06D887CAC2A83D3260CAAEE08C4B_element_74\")>,\n",
       " <selenium.webdriver.remote.webelement.WebElement (session=\"c469069f0d855443ab0b5a5f4917fe11\", element=\"8CEF06D887CAC2A83D3260CAAEE08C4B_element_75\")>]"
      ]
     },
     "execution_count": 17,
     "metadata": {},
     "output_type": "execute_result"
    }
   ],
   "source": [
    "test1=driver.find_elements(By.XPATH, \"//span[@class='css-1djf0pi e12e3var0']\")\n",
    "test1"
   ]
  },
  {
   "cell_type": "code",
   "execution_count": 18,
   "id": "34add724",
   "metadata": {},
   "outputs": [
    {
     "data": {
      "text/plain": [
       "7"
      ]
     },
     "execution_count": 18,
     "metadata": {},
     "output_type": "execute_result"
    }
   ],
   "source": [
    "len(test1)"
   ]
  },
  {
   "cell_type": "code",
   "execution_count": 19,
   "id": "5c122711",
   "metadata": {},
   "outputs": [],
   "source": [
    "question=test1[0].text\n",
    "\n",
    "ops1=test1[1].text\n",
    "ops2=test1[2].text\n",
    "ops3=test1[3].text\n",
    "ops4=test1[4].text\n",
    "\n",
    "ans=test1[5].text\n",
    "\n",
    "ref=test1[6].text"
   ]
  },
  {
   "cell_type": "code",
   "execution_count": 20,
   "id": "ca7a9233",
   "metadata": {},
   "outputs": [
    {
     "data": {
      "text/plain": [
       "[<selenium.webdriver.remote.webelement.WebElement (session=\"c469069f0d855443ab0b5a5f4917fe11\", element=\"8CEF06D887CAC2A83D3260CAAEE08C4B_element_76\")>]"
      ]
     },
     "execution_count": 20,
     "metadata": {},
     "output_type": "execute_result"
    }
   ],
   "source": [
    "url1=driver.find_elements(By.XPATH, \"//span[@class='css-1djf0pi e12e3var0']/ul/li/a\")\n",
    "url1"
   ]
  },
  {
   "cell_type": "code",
   "execution_count": 21,
   "id": "842f1fcd",
   "metadata": {},
   "outputs": [
    {
     "name": "stdout",
     "output_type": "stream",
     "text": [
      "['https://amzn.to/3SHGqsu']\n"
     ]
    }
   ],
   "source": [
    "urls_ops=[]\n",
    "for urls in url1:\n",
    "#     url_text=urls.text\n",
    "    urls_ops.append(urls.get_attribute(\"href\"))\n",
    "print(urls_ops)"
   ]
  },
  {
   "cell_type": "code",
   "execution_count": 22,
   "id": "9e263e04",
   "metadata": {},
   "outputs": [],
   "source": [
    "d={'date':date,\n",
    "  'Qs_title':title_qs,\n",
    "  'question':question,\n",
    "  'Option1':ops1,\n",
    "  'Option2':ops2,\n",
    "  'Option3':ops3,\n",
    "  'Option4':ops4,\n",
    "  'answer':ans,\n",
    "  'references':ref,\n",
    "  'urls_list':[urls_ops]}"
   ]
  },
  {
   "cell_type": "code",
   "execution_count": 23,
   "id": "0cf25a22",
   "metadata": {},
   "outputs": [
    {
     "data": {
      "text/plain": [
       "{'date': \"It's May 24 somewhere\",\n",
       " 'Qs_title': 'Piece replacement',\n",
       " 'question': \"Lucille is a data scientist writing an article about a model developed to predict if a piece of equipment has to be replaced.\\nThe model takes in the piece's characteristics and outputs a prediction based on the relationships between the input features and the target variable.\\nLucille wants to explain how the coefficients, the parameters learned by the model during training, influence the final prediction.\\nWhich of the following options represents the best way for Lucille to describe the role of the coefficients in the model?\",\n",
       " 'Option1': 'A positive coefficient suggests that the feature does not affect the prediction.',\n",
       " 'Option2': 'A negative coefficient suggests that the feature does not affect the prediction.',\n",
       " 'Option3': 'A positive coefficient suggests that the feature has a higher probability of positively affecting the prediction.',\n",
       " 'Option4': 'A positive coefficient suggests that the feature has a higher probability of negatively affecting the prediction.',\n",
       " 'answer': 'The coefficients in the context of a model are the parameters learned by the model during training. They determine the relationship between the input features and the output predictions.\\nIn this example, the coefficients are used to predict whether the piece has to be replaced. The coefficients weigh the input features and determine the final prediction.\\nThe best way to describe the role of the coefficients is by saying that a positive coefficient indicates that the variable is more likely to influence the outcome positively. This means that the variable has a positive relationship with the target variable and increases the probability of the target being positive.\\nOn the other hand, a negative coefficient indicates that the variable has a higher likelihood of negatively influencing the outcome. This means that the variable has a negative relationship with the target variable and decreases the probability of the target being positive.',\n",
       " 'references': 'Hands-On Machine Learning with Scikit-Learn, Keras, and TensorFlow: Concepts, Tools, and Techniques to Build Intelligent Systems is one of the best books for machine learning fundamentals.',\n",
       " 'urls_list': [['https://amzn.to/3SHGqsu']]}"
      ]
     },
     "execution_count": 23,
     "metadata": {},
     "output_type": "execute_result"
    }
   ],
   "source": [
    "d"
   ]
  },
  {
   "cell_type": "code",
   "execution_count": 24,
   "id": "3d71a8d6",
   "metadata": {},
   "outputs": [
    {
     "data": {
      "text/html": [
       "<div>\n",
       "<style scoped>\n",
       "    .dataframe tbody tr th:only-of-type {\n",
       "        vertical-align: middle;\n",
       "    }\n",
       "\n",
       "    .dataframe tbody tr th {\n",
       "        vertical-align: top;\n",
       "    }\n",
       "\n",
       "    .dataframe thead th {\n",
       "        text-align: right;\n",
       "    }\n",
       "</style>\n",
       "<table border=\"1\" class=\"dataframe\">\n",
       "  <thead>\n",
       "    <tr style=\"text-align: right;\">\n",
       "      <th></th>\n",
       "      <th>date</th>\n",
       "      <th>Qs_title</th>\n",
       "      <th>question</th>\n",
       "      <th>Option1</th>\n",
       "      <th>Option2</th>\n",
       "      <th>Option3</th>\n",
       "      <th>Option4</th>\n",
       "      <th>answer</th>\n",
       "      <th>references</th>\n",
       "      <th>urls_list</th>\n",
       "    </tr>\n",
       "  </thead>\n",
       "  <tbody>\n",
       "    <tr>\n",
       "      <th>0</th>\n",
       "      <td>It's May 24 somewhere</td>\n",
       "      <td>Piece replacement</td>\n",
       "      <td>Lucille is a data scientist writing an article...</td>\n",
       "      <td>A positive coefficient suggests that the featu...</td>\n",
       "      <td>A negative coefficient suggests that the featu...</td>\n",
       "      <td>A positive coefficient suggests that the featu...</td>\n",
       "      <td>A positive coefficient suggests that the featu...</td>\n",
       "      <td>The coefficients in the context of a model are...</td>\n",
       "      <td>Hands-On Machine Learning with Scikit-Learn, K...</td>\n",
       "      <td>[https://amzn.to/3SHGqsu]</td>\n",
       "    </tr>\n",
       "  </tbody>\n",
       "</table>\n",
       "</div>"
      ],
      "text/plain": [
       "                    date           Qs_title  \\\n",
       "0  It's May 24 somewhere  Piece replacement   \n",
       "\n",
       "                                            question  \\\n",
       "0  Lucille is a data scientist writing an article...   \n",
       "\n",
       "                                             Option1  \\\n",
       "0  A positive coefficient suggests that the featu...   \n",
       "\n",
       "                                             Option2  \\\n",
       "0  A negative coefficient suggests that the featu...   \n",
       "\n",
       "                                             Option3  \\\n",
       "0  A positive coefficient suggests that the featu...   \n",
       "\n",
       "                                             Option4  \\\n",
       "0  A positive coefficient suggests that the featu...   \n",
       "\n",
       "                                              answer  \\\n",
       "0  The coefficients in the context of a model are...   \n",
       "\n",
       "                                          references  \\\n",
       "0  Hands-On Machine Learning with Scikit-Learn, K...   \n",
       "\n",
       "                   urls_list  \n",
       "0  [https://amzn.to/3SHGqsu]  "
      ]
     },
     "execution_count": 24,
     "metadata": {},
     "output_type": "execute_result"
    }
   ],
   "source": [
    "df = pd.DataFrame(d)\n",
    "df"
   ]
  },
  {
   "cell_type": "code",
   "execution_count": null,
   "id": "5c4b9c00",
   "metadata": {},
   "outputs": [],
   "source": []
  },
  {
   "cell_type": "code",
   "execution_count": 25,
   "id": "79fc3c90",
   "metadata": {},
   "outputs": [
    {
     "name": "stderr",
     "output_type": "stream",
     "text": [
      "C:\\Users\\MUSHRIFAH\\AppData\\Local\\Temp\\ipykernel_31332\\3699137643.py:11: FutureWarning: The frame.append method is deprecated and will be removed from pandas in a future version. Use pandas.concat instead.\n",
      "  df = df.append(d1, ignore_index = True)\n"
     ]
    },
    {
     "data": {
      "text/html": [
       "<div>\n",
       "<style scoped>\n",
       "    .dataframe tbody tr th:only-of-type {\n",
       "        vertical-align: middle;\n",
       "    }\n",
       "\n",
       "    .dataframe tbody tr th {\n",
       "        vertical-align: top;\n",
       "    }\n",
       "\n",
       "    .dataframe thead th {\n",
       "        text-align: right;\n",
       "    }\n",
       "</style>\n",
       "<table border=\"1\" class=\"dataframe\">\n",
       "  <thead>\n",
       "    <tr style=\"text-align: right;\">\n",
       "      <th></th>\n",
       "      <th>date</th>\n",
       "      <th>Qs_title</th>\n",
       "      <th>question</th>\n",
       "      <th>Option1</th>\n",
       "      <th>Option2</th>\n",
       "      <th>Option3</th>\n",
       "      <th>Option4</th>\n",
       "      <th>answer</th>\n",
       "      <th>references</th>\n",
       "      <th>urls_list</th>\n",
       "    </tr>\n",
       "  </thead>\n",
       "  <tbody>\n",
       "    <tr>\n",
       "      <th>0</th>\n",
       "      <td>It's May 24 somewhere</td>\n",
       "      <td>Piece replacement</td>\n",
       "      <td>Lucille is a data scientist writing an article...</td>\n",
       "      <td>A positive coefficient suggests that the featu...</td>\n",
       "      <td>A negative coefficient suggests that the featu...</td>\n",
       "      <td>A positive coefficient suggests that the featu...</td>\n",
       "      <td>A positive coefficient suggests that the featu...</td>\n",
       "      <td>The coefficients in the context of a model are...</td>\n",
       "      <td>Hands-On Machine Learning with Scikit-Learn, K...</td>\n",
       "      <td>[https://amzn.to/3SHGqsu]</td>\n",
       "    </tr>\n",
       "    <tr>\n",
       "      <th>1</th>\n",
       "      <td>May 25</td>\n",
       "      <td>Piece replacement</td>\n",
       "      <td>Lucille is a data scientist writing an article...</td>\n",
       "      <td>A positive coefficient suggests that the featu...</td>\n",
       "      <td>A negative coefficient suggests that the featu...</td>\n",
       "      <td>A positive coefficient suggests that the featu...</td>\n",
       "      <td>A positive coefficient suggests that the featu...</td>\n",
       "      <td>The coefficients in the context of a model are...</td>\n",
       "      <td>Hands-On Machine Learning with Scikit-Learn, K...</td>\n",
       "      <td>[[https://amzn.to/3SHGqsu]]</td>\n",
       "    </tr>\n",
       "  </tbody>\n",
       "</table>\n",
       "</div>"
      ],
      "text/plain": [
       "                    date           Qs_title  \\\n",
       "0  It's May 24 somewhere  Piece replacement   \n",
       "1                 May 25  Piece replacement   \n",
       "\n",
       "                                            question  \\\n",
       "0  Lucille is a data scientist writing an article...   \n",
       "1  Lucille is a data scientist writing an article...   \n",
       "\n",
       "                                             Option1  \\\n",
       "0  A positive coefficient suggests that the featu...   \n",
       "1  A positive coefficient suggests that the featu...   \n",
       "\n",
       "                                             Option2  \\\n",
       "0  A negative coefficient suggests that the featu...   \n",
       "1  A negative coefficient suggests that the featu...   \n",
       "\n",
       "                                             Option3  \\\n",
       "0  A positive coefficient suggests that the featu...   \n",
       "1  A positive coefficient suggests that the featu...   \n",
       "\n",
       "                                             Option4  \\\n",
       "0  A positive coefficient suggests that the featu...   \n",
       "1  A positive coefficient suggests that the featu...   \n",
       "\n",
       "                                              answer  \\\n",
       "0  The coefficients in the context of a model are...   \n",
       "1  The coefficients in the context of a model are...   \n",
       "\n",
       "                                          references  \\\n",
       "0  Hands-On Machine Learning with Scikit-Learn, K...   \n",
       "1  Hands-On Machine Learning with Scikit-Learn, K...   \n",
       "\n",
       "                     urls_list  \n",
       "0    [https://amzn.to/3SHGqsu]  \n",
       "1  [[https://amzn.to/3SHGqsu]]  "
      ]
     },
     "execution_count": 25,
     "metadata": {},
     "output_type": "execute_result"
    }
   ],
   "source": [
    "d1={'date':'May 25',\n",
    "  'Qs_title':title_qs,\n",
    "  'question':question,\n",
    "  'Option1':ops1,\n",
    "  'Option2':ops2,\n",
    "  'Option3':ops3,\n",
    "  'Option4':ops4,\n",
    "  'answer':ans,\n",
    "  'references':ref,\n",
    "  'urls_list':[urls_ops]}\n",
    "df = df.append(d1, ignore_index = True)\n",
    "df"
   ]
  },
  {
   "cell_type": "code",
   "execution_count": null,
   "id": "e357de43",
   "metadata": {},
   "outputs": [],
   "source": []
  }
 ],
 "metadata": {
  "kernelspec": {
   "display_name": "scrapper",
   "language": "python",
   "name": "scrapper"
  },
  "language_info": {
   "codemirror_mode": {
    "name": "ipython",
    "version": 3
   },
   "file_extension": ".py",
   "mimetype": "text/x-python",
   "name": "python",
   "nbconvert_exporter": "python",
   "pygments_lexer": "ipython3",
   "version": "3.9.12"
  }
 },
 "nbformat": 4,
 "nbformat_minor": 5
}
